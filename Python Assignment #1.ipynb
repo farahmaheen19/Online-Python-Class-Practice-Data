{
 "cells": [
  {
   "cell_type": "markdown",
   "metadata": {},
   "source": [
    " # Assignment#1                                                       #Roll_No: PY01021"
   ]
  },
  {
   "cell_type": "code",
   "execution_count": 10,
   "metadata": {},
   "outputs": [
    {
     "name": "stdout",
     "output_type": "stream",
     "text": [
      "Twinkle, twinkle, little star,\n",
      "\tHow I wonder what you are!\n",
      "\t\tUp above the world so high,\n",
      "\t\tLike a diamond in the sky.\n",
      "Twinkle, twinkle, little star,\n",
      "\tHow I wonder what you are\n"
     ]
    }
   ],
   "source": [
    "\"\"\"\"1.  Write a Python program to print the following string in a specific format (see the output). \"\"\"\n",
    "a = \"Twinkle, twinkle, little star,\"   #adding string to variable\n",
    "b = \"How I wonder what you are\"        #adding strinf to variable\n",
    "c = \"Up above the world so high,\"      #adding strinf to variable\n",
    "d = \"Like a diamond in the sky.\"       #adding strinf to variable\n",
    "print (a + '\\n' +'\\t' + b + \"!\" + '\\n' +'\\t' +'\\t' +c+'\\n'+'\\t'+'\\t'+d+'\\n'+a + '\\n' +'\\t' + b)    #printing \\n for new line \\t for tab"
   ]
  },
  {
   "cell_type": "code",
   "execution_count": 15,
   "metadata": {},
   "outputs": [
    {
     "name": "stdout",
     "output_type": "stream",
     "text": [
      "3.7.4\n"
     ]
    }
   ],
   "source": [
    "\"\"\"\"2.  Write a Python program to get the Python version you are using \"\"\"\n",
    "from platform import python_version\n",
    "print (python_version())"
   ]
  },
  {
   "cell_type": "code",
   "execution_count": 16,
   "metadata": {},
   "outputs": [
    {
     "name": "stdout",
     "output_type": "stream",
     "text": [
      "Curent Date : 2019-11-03\n",
      "Current Time : 00:30:03\n"
     ]
    }
   ],
   "source": [
    "\"\"\"3. Write a Python program to display the current date and time.\"\"\"\n",
    "from datetime import date\n",
    "from datetime import datetime\n",
    "today=date.today()\n",
    "now= datetime.now()\n",
    "current_time = now.strftime('%H:%M:%S')\n",
    "print (\"Curent Date : \" + str(today))\n",
    "print (\"Current Time : \" + current_time)"
   ]
  },
  {
   "cell_type": "code",
   "execution_count": 18,
   "metadata": {},
   "outputs": [
    {
     "name": "stdout",
     "output_type": "stream",
     "text": [
      "Enter radius of Circle : 3.2\n",
      "Area of Circle is : 32.153600000000004\n"
     ]
    }
   ],
   "source": [
    "\"\"\"4. Write a Python program which accepts the radius of a circle from the userand compute the area.\"\"\"\n",
    "radius= float (input (\"Enter radius of Circle : \"))\n",
    "area = 3.14 * radius * radius\n",
    "print (\"Area of Circle is : \" + str(area))"
   ]
  },
  {
   "cell_type": "code",
   "execution_count": 20,
   "metadata": {},
   "outputs": [
    {
     "name": "stdout",
     "output_type": "stream",
     "text": [
      "Enter your first name : Farah\n",
      "Enter your last name : Maheen\n",
      "Maheen Farah\n"
     ]
    }
   ],
   "source": [
    "\"\"\"5. Write a Python program which accepts the user's first and last name andprint them in reverse order with a space between them.\"\"\"\n",
    "first_name = input (\"Enter your first name : \")\n",
    "last_name = input (\"Enter your last name : \")\n",
    "first_name,last_name = last_name,first_name\n",
    "print (first_name +\" \" + last_name)\n"
   ]
  }
 ],
 "metadata": {
  "kernelspec": {
   "display_name": "Python 3",
   "language": "python",
   "name": "python3"
  },
  "language_info": {
   "codemirror_mode": {
    "name": "ipython",
    "version": 3
   },
   "file_extension": ".py",
   "mimetype": "text/x-python",
   "name": "python",
   "nbconvert_exporter": "python",
   "pygments_lexer": "ipython3",
   "version": "3.7.4"
  }
 },
 "nbformat": 4,
 "nbformat_minor": 2
}

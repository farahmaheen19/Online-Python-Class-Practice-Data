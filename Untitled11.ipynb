{
 "cells": [
  {
   "cell_type": "code",
   "execution_count": 10,
   "metadata": {},
   "outputs": [
    {
     "name": "stdout",
     "output_type": "stream",
     "text": [
      "First Name : farah\n",
      "Last Name : maheen\n",
      "Age : 20\n",
      "City : faisalabad\n",
      "Qualification : SSC\n",
      "Qualification : HSSC\n"
     ]
    },
    {
     "ename": "KeyError",
     "evalue": "'Qualification'",
     "output_type": "error",
     "traceback": [
      "\u001b[1;31m---------------------------------------------------------------------------\u001b[0m",
      "\u001b[1;31mKeyError\u001b[0m                                  Traceback (most recent call last)",
      "\u001b[1;32m<ipython-input-10-ae8ed6476ff2>\u001b[0m in \u001b[0;36m<module>\u001b[1;34m\u001b[0m\n\u001b[0;32m     21\u001b[0m \u001b[0mqua\u001b[0m\u001b[1;33m=\u001b[0m\u001b[0mperson_info\u001b[0m\u001b[1;33m[\u001b[0m\u001b[1;34m\"qualification\"\u001b[0m\u001b[1;33m]\u001b[0m\u001b[1;33m\u001b[0m\u001b[1;33m\u001b[0m\u001b[0m\n\u001b[0;32m     22\u001b[0m \u001b[0mprint\u001b[0m\u001b[1;33m(\u001b[0m\u001b[1;34m\"Qualification : \"\u001b[0m \u001b[1;33m+\u001b[0m \u001b[0mstr\u001b[0m\u001b[1;33m(\u001b[0m\u001b[0mqua\u001b[0m\u001b[1;33m)\u001b[0m\u001b[1;33m)\u001b[0m\u001b[1;33m\u001b[0m\u001b[1;33m\u001b[0m\u001b[0m\n\u001b[1;32m---> 23\u001b[1;33m \u001b[1;32mdel\u001b[0m \u001b[0mperson_info\u001b[0m\u001b[1;33m[\u001b[0m\u001b[1;34m\"Qualification\"\u001b[0m\u001b[1;33m]\u001b[0m\u001b[1;33m\u001b[0m\u001b[1;33m\u001b[0m\u001b[0m\n\u001b[0m\u001b[0;32m     24\u001b[0m \u001b[0mprint\u001b[0m\u001b[1;33m(\u001b[0m\u001b[1;34m\"Qualification : \"\u001b[0m \u001b[1;33m+\u001b[0m \u001b[0mstr\u001b[0m\u001b[1;33m(\u001b[0m\u001b[0mqua\u001b[0m\u001b[1;33m)\u001b[0m\u001b[1;33m)\u001b[0m\u001b[1;33m\u001b[0m\u001b[1;33m\u001b[0m\u001b[0m\n",
      "\u001b[1;31mKeyError\u001b[0m: 'Qualification'"
     ]
    }
   ],
   "source": [
    "\"\"\"Question1:\n",
    "Use a dictionary to store information about a person you know. Store their first name, last name, age, and the city in which they live. You should have keys such as first_name, last_name, age, and city. Print each piece of information stored in your dictionary. Add a new key value pair about qualification then update the qualification value to high academic level then delete it.\n",
    "\"\"\"\n",
    "person_info = {\"first_name\" : \"farah\" , \"last_name\" : \"maheen\" , \"age\" : \"20\" , \"city\" : \"faisalabad\"}\n",
    "\n",
    "\n",
    "    \n",
    "first_name=person_info[\"first_name\"]\n",
    "last_name=person_info[\"last_name\"]\n",
    "age=person_info[\"age\"]\n",
    "city=person_info[\"city\"]\n",
    "print(\"First Name : \" + str(first_name))\n",
    "print(\"Last Name : \" + str(last_name))\n",
    "print(\"Age : \" + str(age))\n",
    "print(\"City : \" + str(city))\n",
    "\n",
    "person_info[\"qualification\"]=\"SSC\"\n",
    "qua=person_info[\"qualification\"]\n",
    "print(\"Qualification : \" + str(qua))\n",
    "person_info[\"qualification\"]=\"HSSC\"\n",
    "qua=person_info[\"qualification\"]\n",
    "print(\"Qualification : \" + str(qua))\n",
    "del person_info[\"Qualification\"]\n",
    "print(\"Qualification : \" + str(qua))"
   ]
  },
  {
   "cell_type": "code",
   "execution_count": 26,
   "metadata": {},
   "outputs": [
    {
     "name": "stdout",
     "output_type": "stream",
     "text": [
      "Sydne {'Country': 'Australia', 'Population': '5.23 million', 'Fact': 'Sydney has the deepest natural harbour in the world '}\n",
      "Faisalabad {'Country': 'Pakistan', 'Population': '3.204 million', 'Fact': 'Textile city of Pakistan'}\n",
      "Lahore {'Country': 'Pakistan', 'Population': '11.13 million', 'Fact': 'Lahore became famous for poetry'}\n"
     ]
    }
   ],
   "source": [
    "\"\"\"Question2:\n",
    "Make a dictionary called cities. Use the names of three cities as keys in your dictionary. Create a dictionary of information about each city and include the country that the city is in, its approximate population, and one fact about that city. The keys for each city’s dictionary should be something like country, population, and fact. Print the name of each city and all of the information you have stored about it.\n",
    "\"\"\"\n",
    "cities = {\n",
    "   \"Sydne\": {\n",
    "        \n",
    "        \"Country\":\"Australia\",\n",
    "        \"Population\":\"5.23 million\",\n",
    "        \"Fact\":\"Sydney has the deepest natural harbour in the world \"\n",
    "        \n",
    "    },\n",
    "      \"Faisalabad\" :  {\n",
    "        \n",
    "        \"Country\":\"Pakistan\",\n",
    "        \"Population\":\"3.204 million\",\n",
    "        \"Fact\":\"Textile city of Pakistan\"\n",
    "        \n",
    "    },  \"Lahore\" :   {\n",
    "        \n",
    "        \"Country\":\"Pakistan\",\n",
    "        \"Population\":\"11.13 million\",\n",
    "        \"Fact\":\"Lahore became famous for poetry\",\n",
    "        },\n",
    "}\n",
    "\n",
    "for key,value in cities.items():\n",
    "    print(key,value)\n",
    "    "
   ]
  },
  {
   "cell_type": "code",
   "execution_count": null,
   "metadata": {},
   "outputs": [
    {
     "name": "stdout",
     "output_type": "stream",
     "text": [
      "enter your age , or q to quit : 3\n",
      "Your Ticket is $10\n",
      "enter your age , or q to quit : 13\n",
      "Your Ticket is free\n",
      "enter your age , or q to quit : 15\n",
      "Your Ticket is free\n",
      "enter your age , or q to quit : 12\n",
      "Your Ticket is free\n"
     ]
    }
   ],
   "source": [
    "\"\"\"Question3:\n",
    "A movie theater charges different ticket prices depending on a person’s age. If a person is under the age of 3, the ticket is free; if they are between 3 and 12, the ticket is $10; and if they are over age 12, the ticket is $15. Write a loop in which you ask users their age, and then tell them the cost of their movie ticket.\n",
    "\"\"\"\n",
    "\n",
    "user_input =\"\"\n",
    "while user_input !=\"q\":\n",
    "    user_input = int(input (\"enter your age , or q to quit : \"))\n",
    "    if user_input !=\"q\":\n",
    "            if user_input < 3:\n",
    "                print (\"Your Ticket is free\")\n",
    "            elif user_input>=3 or user_input<=12:\n",
    "                print (\"Your Ticket is $10\")\n",
    "            elif user_input>\"12:\n",
    "                print (\"Your ticket is $15\")\n",
    "                break\n",
    "                "
   ]
  },
  {
   "cell_type": "code",
   "execution_count": null,
   "metadata": {},
   "outputs": [],
   "source": []
  }
 ],
 "metadata": {
  "kernelspec": {
   "display_name": "Python 3",
   "language": "python",
   "name": "python3"
  },
  "language_info": {
   "codemirror_mode": {
    "name": "ipython",
    "version": 3
   },
   "file_extension": ".py",
   "mimetype": "text/x-python",
   "name": "python",
   "nbconvert_exporter": "python",
   "pygments_lexer": "ipython3",
   "version": "3.7.4"
  }
 },
 "nbformat": 4,
 "nbformat_minor": 2
}

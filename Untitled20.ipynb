{
 "cells": [
  {
   "cell_type": "code",
   "execution_count": 2,
   "metadata": {},
   "outputs": [
    {
     "name": "stdout",
     "output_type": "stream",
     "text": [
      "Enter number of students1\n",
      "Enter name of student:sana\n"
     ]
    }
   ],
   "source": [
    "no_of_students = int(input(\"Enter number of students\"))\n",
    "students = []\n",
    "#print (students)\n",
    "for x in range (no_of_students) :\n",
    "    st = input (\"Enter name of student:\")\n",
    "    students.insert(x,st)     #students.append(st)\n",
    "#print (students)"
   ]
  },
  {
   "cell_type": "code",
   "execution_count": 3,
   "metadata": {},
   "outputs": [
    {
     "name": "stdout",
     "output_type": "stream",
     "text": [
      "Press\n",
      "1. for University of Agriculture\n",
      "2. for University of Faisalabad\n",
      "3. for National Textile University\n",
      "4. for FAST University4\n",
      "*************students of FAST University are*************\n",
      "\n",
      "['sana']\n"
     ]
    }
   ],
   "source": [
    "#use of touple\n",
    "# syntax of touple touple_name = (values)\n",
    "\n",
    "universties = (\"University of Agriculture\", \"University of Faisalabad\" , \"National Textile University\" , \"FAST University\")\n",
    "\n",
    "uni = int(input(\"Press\\n1. for University of Agriculture\\n2. for University of Faisalabad\\n3. for National Textile University\\n4. for FAST University\"))\n",
    "if uni == 1:\n",
    "    print (\"*************students of \" + str(universties[uni-1]) + \" are*************\\n\")\n",
    "    print (students)\n",
    "elif uni == 2:\n",
    "    print (\"*************students of \" + str(universties[uni-1]) + \" are*************\\n\")\n",
    "    print (students)\n",
    "elif uni == 3:\n",
    "    print (\"*************students of \" + str(universties[uni-1]) + \" are*************\\n\")\n",
    "    print (students)\n",
    "elif uni == 4:\n",
    "    print (\"*************students of \" + str(universties[uni-1]) + \" are*************\\n\")\n",
    "    print (students)\n",
    "else:\n",
    "    print (\"invalid\")\n"
   ]
  },
  {
   "cell_type": "code",
   "execution_count": 5,
   "metadata": {},
   "outputs": [
    {
     "name": "stdout",
     "output_type": "stream",
     "text": [
      "Enter number of Father2\n",
      "Enter name of father:samee\n",
      "Enter name of father:shahid\n",
      "['samee', 'shahid']\n",
      "Enter number of slbblings2\n",
      "Enter name of sibbling:farah\n",
      "Enter name of sibbling:hira\n",
      "['farah', 'hira']\n",
      "farah samee\n",
      "farah shahid\n",
      "hira samee\n",
      "hira shahid\n"
     ]
    }
   ],
   "source": [
    "#Nested For Loop\n",
    "\n",
    "no_of_students = int(input(\"Enter number of Father\"))\n",
    "father = []\n",
    "#print (students)\n",
    "for x in range (no_of_students) :\n",
    "    st = input (\"Enter name of father:\")\n",
    "    father.insert(x,st)     #students.append(st)\n",
    "print (father)\n",
    "\n",
    "\n",
    "no_of_students = int(input(\"Enter number of slbblings\"))\n",
    "sibbling = []\n",
    "#print (students)\n",
    "for x in range (no_of_students) :\n",
    "    st = input (\"Enter name of sibbling:\")\n",
    "    sibbling.insert(x,st)     #students.append(st)\n",
    "print (sibbling)\n",
    "\n",
    "for first_name in (sibbling):\n",
    "    for second_name in (father):\n",
    "        print(first_name + \" \" + second_name)\n",
    "\n"
   ]
  },
  {
   "cell_type": "code",
   "execution_count": 7,
   "metadata": {},
   "outputs": [
    {
     "name": "stdout",
     "output_type": "stream",
     "text": [
      "FARAH\n"
     ]
    },
    {
     "ename": "AttributeError",
     "evalue": "'list' object has no attribute 'upper'",
     "output_type": "error",
     "traceback": [
      "\u001b[1;31m---------------------------------------------------------------------------\u001b[0m",
      "\u001b[1;31mAttributeError\u001b[0m                            Traceback (most recent call last)",
      "\u001b[1;32m<ipython-input-7-3c829501b4ba>\u001b[0m in \u001b[0;36m<module>\u001b[1;34m\u001b[0m\n\u001b[0;32m      1\u001b[0m \u001b[0ma\u001b[0m \u001b[1;33m=\u001b[0m \u001b[1;34m\"farah\"\u001b[0m\u001b[1;33m\u001b[0m\u001b[1;33m\u001b[0m\u001b[0m\n\u001b[0;32m      2\u001b[0m \u001b[0mprint\u001b[0m \u001b[1;33m(\u001b[0m\u001b[0ma\u001b[0m\u001b[1;33m.\u001b[0m\u001b[0mupper\u001b[0m\u001b[1;33m(\u001b[0m\u001b[1;33m)\u001b[0m\u001b[1;33m)\u001b[0m\u001b[1;33m\u001b[0m\u001b[1;33m\u001b[0m\u001b[0m\n\u001b[1;32m----> 3\u001b[1;33m \u001b[0mprint\u001b[0m\u001b[1;33m(\u001b[0m\u001b[0mfather\u001b[0m\u001b[1;33m.\u001b[0m\u001b[0mupper\u001b[0m\u001b[1;33m(\u001b[0m\u001b[1;33m)\u001b[0m\u001b[1;33m)\u001b[0m\u001b[1;33m\u001b[0m\u001b[1;33m\u001b[0m\u001b[0m\n\u001b[0m",
      "\u001b[1;31mAttributeError\u001b[0m: 'list' object has no attribute 'upper'"
     ]
    }
   ],
   "source": [
    "a = \"farah\"\n",
    "print (a.upper())\n",
    "print(father.upper())"
   ]
  },
  {
   "cell_type": "code",
   "execution_count": null,
   "metadata": {},
   "outputs": [],
   "source": []
  }
 ],
 "metadata": {
  "kernelspec": {
   "display_name": "Python 3",
   "language": "python",
   "name": "python3"
  }
 },
 "nbformat": 4,
 "nbformat_minor": 2
}

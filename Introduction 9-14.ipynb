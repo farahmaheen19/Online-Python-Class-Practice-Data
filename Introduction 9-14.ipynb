{
 "cells": [
  {
   "cell_type": "markdown",
   "metadata": {},
   "source": [
    "# Use of If , Nested If and comparision operator"
   ]
  },
  {
   "cell_type": "code",
   "execution_count": 6,
   "metadata": {},
   "outputs": [
    {
     "name": "stdout",
     "output_type": "stream",
     "text": [
      "Enter a animalcat\n",
      "Its a animal\n",
      "You are going right way\n",
      "Enter number of husband1\n",
      "You are eligible to enter\n"
     ]
    }
   ],
   "source": [
    "# if statements\n",
    "'''syntax if condition:\n",
    "             statement(s)''' \n",
    "\n",
    "\n",
    "species = input (\"Enter a animal\")\n",
    "if species == \"cat\":     #use of string in comapision opperator\n",
    "    status = \"ok\"\n",
    "    kingdom = \"animal\"\n",
    "    print (\"Its a animal\")\n",
    "else:\n",
    "    print (\"its not an animal\")\n",
    "\n",
    "if 2+2 == 4:           #use of integer in comapision opperator\n",
    "    print (\"You are going right way\")\n",
    "\n",
    "number_of_husband = int (input (\"Enter number of husband\"))\n",
    "\n",
    "if number_of_husband == 1:        #use of variable in comapision opperator\n",
    "    print (\"You are eligible to enter\")\n",
    "else:\n",
    "    print (\"you are not eligible\")\n"
   ]
  },
  {
   "cell_type": "code",
   "execution_count": 9,
   "metadata": {},
   "outputs": [
    {
     "name": "stdout",
     "output_type": "stream",
     "text": [
      "enter your namefarah\n",
      "enter your age20\n",
      "farah ; you are eligible\n",
      "as same name ; you are eligible\n",
      "with age 20 ; you are eligible\n",
      "with age 10+10 ;you are eligible\n"
     ]
    }
   ],
   "source": [
    "#Comparison operators\n",
    "#syntax if variable == string\n",
    "#syntax if variable == integer\n",
    "#syntax if variable == variable\n",
    "#syntax if variable == expression\n",
    "\n",
    "name = \"farah\"\n",
    "name2 = input (\"enter your name\")\n",
    "age = int (input (\"enter your age\"))\n",
    "if name == \"farah\":\n",
    "    print (\"farah ; you are eligible\")\n",
    "if name == name2:\n",
    "    print (\"as same name ; you are eligible\")\n",
    "if age == 20:\n",
    "    print (\"with age 20 ; you are eligible\")\n",
    "if age == 10+10:\n",
    "    print (\"with age 10+10 ;you are eligible\")"
   ]
  },
  {
   "cell_type": "code",
   "execution_count": 15,
   "metadata": {},
   "outputs": [
    {
     "name": "stdout",
     "output_type": "stream",
     "text": [
      "enter your name: ahsan\n",
      "enter your gender m/f: f\n",
      "enter your age: 21\n",
      "ahsan you are eligible\n"
     ]
    }
   ],
   "source": [
    "#Comparison operators with AND , OR operator\n",
    "#syntax if condition and condition:\n",
    "#syntax if condition or condition:\n",
    "\n",
    "\n",
    "name = input (\"enter your name: \")\n",
    "gender = input (\"enter your gender m/f: \")\n",
    "age = int(input (\"enter your age: \"))\n",
    "\n",
    "if gender == \"f\":\n",
    "    if age >= 20 and age <= 30:\n",
    "        print (name +\" you are eligible\")\n",
    "else:\n",
    "    print (name + \" Sorry! you are not eligible\")"
   ]
  },
  {
   "cell_type": "code",
   "execution_count": 21,
   "metadata": {},
   "outputs": [
    {
     "name": "stdout",
     "output_type": "stream",
     "text": [
      "********************Welcome to Dunkin Donuts********************\n",
      "Press D for donuts: \n",
      "Press P for Parathas: \n",
      "Press I for Icecream: \n",
      "Press T of tea: p\n",
      "Your total price of donuts is :0\n"
     ]
    }
   ],
   "source": [
    "#use of nested if and elif\n",
    "'''\n",
    "#syntax \n",
    "if condition\n",
    "    elif condition:\n",
    "    else:\n",
    "else:\n",
    "    \n",
    "'''\n",
    "\n",
    "print (\"********************Welcome to Dunkin Donuts********************\")\n",
    "price = 0\n",
    "type = input (\"Press D for donuts: \\nPress P for Parathas: \\nPress I for Icecream: \\nPress T of tea: \")\n",
    "if type == \"d\" or type == \"D\":\n",
    "    d_price = 50\n",
    "    d_extra = input (\"Do you want Extra topings?\")\n",
    "    if d_extra == \"yes\" or d_extra == \"y\":\n",
    "        d_top = int(input (\"Press 1 for chocklate: \\nPress 2 for cream: \\n Press 3 for jalley:\"))\n",
    "        if d_top == 1:\n",
    "            price = d_price + 50\n",
    "        elif d_top == 2:\n",
    "            price = d_price + 40\n",
    "        elif d_top == 3:\n",
    "            price = d_price + 30\n",
    "    else:\n",
    "        price = d_price\n",
    "print (\"Your total price of donuts is :\" + str(price) )\n",
    "  "
   ]
  },
  {
   "cell_type": "code",
   "execution_count": 25,
   "metadata": {},
   "outputs": [
    {
     "name": "stdout",
     "output_type": "stream",
     "text": [
      "********************Welcome to Dunkin Donuts********************\n",
      "enter your name: farah\n",
      "enter your gender m/f: f\n",
      "enter your age: 21\n",
      "farah you are eligible\n",
      "Press D for donuts: \n",
      "Press P for Parathas: \n",
      "Press I for Icecream: \n",
      "Press T of tea: d\n",
      "Do you want Extra topings?y\n",
      "Press 1 for chocklate: \n",
      "Press 2 for cream: \n",
      " Press 3 for jalley:3\n",
      "Your total price of donuts is :80\n"
     ]
    }
   ],
   "source": [
    "print (\"********************Welcome to Dunkin Donuts********************\")\n",
    "\n",
    "name = input (\"enter your name: \")\n",
    "gender = input (\"enter your gender m/f: \")\n",
    "age = int(input (\"enter your age: \"))\n",
    "\n",
    "if gender == \"f\" and (age >= 20 and age <= 30):\n",
    "        print (name +\" you are eligible\")\n",
    "        price = 0\n",
    "        type = input (\"Press D for donuts: \\nPress P for Parathas: \\nPress I for Icecream: \\nPress T of tea: \")\n",
    "        if type == \"d\" or type == \"D\":\n",
    "            d_price = 50\n",
    "            d_extra = input (\"Do you want Extra topings?\")\n",
    "        if d_extra == \"yes\" or d_extra == \"y\":\n",
    "            d_top = int(input (\"Press 1 for chocklate: \\nPress 2 for cream: \\n Press 3 for jalley:\"))\n",
    "            if d_top == 1:\n",
    "                price = d_price + 50\n",
    "            elif d_top == 2:\n",
    "                price = d_price + 40\n",
    "            elif d_top == 3:\n",
    "                price = d_price + 30\n",
    "        else:\n",
    "            price = d_price\n",
    "        print (\"Your total price of donuts is :\" + str(price) )\n",
    "\n",
    "else:\n",
    "    print (name + \" Sorry! you are not eligible\")\n"
   ]
  }
 ],
 "metadata": {
  "kernelspec": {
   "display_name": "Python 3",
   "language": "python",
   "name": "python3"
  },
  "language_info": {
   "codemirror_mode": {
    "name": "ipython",
    "version": 3
   },
   "file_extension": ".py",
   "mimetype": "text/x-python",
   "name": "python",
   "nbconvert_exporter": "python",
   "pygments_lexer": "ipython3",
   "version": "3.7.4"
  }
 },
 "nbformat": 4,
 "nbformat_minor": 2
}

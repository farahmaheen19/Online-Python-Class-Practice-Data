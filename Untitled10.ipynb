{
 "cells": [
  {
   "cell_type": "code",
   "execution_count": 53,
   "metadata": {},
   "outputs": [
    {
     "name": "stdout",
     "output_type": "stream",
     "text": [
      "Please enter the first number: 2\n",
      "Please enter the second number: 3\n",
      "Please select operation -\n",
      "+. Add\n",
      "-. Subtract\n",
      "*. Multiply\n",
      "/. Divide\n",
      "**. Power\n",
      "**\n",
      "2power3=8\n"
     ]
    }
   ],
   "source": [
    "# 1. Make a calculator using Python with addition , subtraction , multiplication ,division and power.\n",
    "number_1 = int(input(\"Please enter the first number: \"))\n",
    "number_2 = int(input(\"Please enter the second number: \"))\n",
    "operation = str(input (\"Please select operation -\\n\" \n",
    "        \"+. Add\\n\" \n",
    "        \"-. Subtract\\n\"  \n",
    "        \"*. Multiply\\n\"  \n",
    "        \"/. Divide\\n\"\n",
    "        \"**. Power\\n\"              ))\n",
    "\n",
    "\n",
    "\n",
    "if operation == \"+\":\n",
    "    print(str(number_1) + \"+\" + str(number_2) + \"=\" + str(number_1 + number_2))\n",
    "\n",
    "elif operation == '-':\n",
    "    print(str(number_1) + \"-\" + str(number_2) + \"=\" + str(number_1 - number_2))\n",
    "\n",
    "elif operation == '*':\n",
    "    print(str(number_1) + \"*\" + str(number_2) + \"=\" + str(number_1 * number_2))\n",
    "\n",
    "elif operation == '/':\n",
    "    print(str(number_1) + \"/\" + str(number_2) + \"=\" + str(number_1 / number_2))\n",
    "elif operation == '**':\n",
    "    print(str(number_1) + \"power\" + str(number_2) + \"=\" + str(number_1 ** number_2))\n",
    "\n",
    "else:\n",
    "    print('You have not typed a valid operator, please run the program again.')\n",
    "\n"
   ]
  },
  {
   "cell_type": "code",
   "execution_count": 37,
   "metadata": {},
   "outputs": [
    {
     "name": "stdout",
     "output_type": "stream",
     "text": [
      "List contain numeric value\n"
     ]
    }
   ],
   "source": [
    "# 2. Write a program to check if there is any numeric value in list using for loop\n",
    "a=[\"farah\",34,'sana']\n",
    "x=len(a)\n",
    "for i in range (x):\n",
    "    if str(a[i]).isnumeric()==True :\n",
    "        print (\"List contain numeric value\")\n",
    "   "
   ]
  },
  {
   "cell_type": "code",
   "execution_count": 56,
   "metadata": {},
   "outputs": [
    {
     "name": "stdout",
     "output_type": "stream",
     "text": [
      "Current Dictionary is:  {'1': 'Student Name', '2': 'Father Name'}\n",
      "Updated Dict is:  {'1': 'Student Name', '2': 'Second Name', '3': 'Gender'}\n"
     ]
    }
   ],
   "source": [
    "# 3. Write a Python script to add a key to a dictionary\n",
    "dictionary = {'1':'Student Name', '2':'Father Name'} \n",
    "print(\"Current Dictionary is: \", dictionary) \n",
    "dictionary['2'] = 'Second Name'\n",
    "dictionary['3'] = 'Gender'\n",
    "print(\"Updated Dict is: \", dictionary) "
   ]
  },
  {
   "cell_type": "code",
   "execution_count": 57,
   "metadata": {},
   "outputs": [
    {
     "ename": "KeyError",
     "evalue": "0",
     "output_type": "error",
     "traceback": [
      "\u001b[1;31m---------------------------------------------------------------------------\u001b[0m",
      "\u001b[1;31mKeyError\u001b[0m                                  Traceback (most recent call last)",
      "\u001b[1;32m<ipython-input-57-25e676225c75>\u001b[0m in \u001b[0;36m<module>\u001b[1;34m\u001b[0m\n\u001b[0;32m      3\u001b[0m \u001b[0mx\u001b[0m\u001b[1;33m=\u001b[0m\u001b[0mlen\u001b[0m\u001b[1;33m(\u001b[0m\u001b[0ma\u001b[0m\u001b[1;33m)\u001b[0m\u001b[1;33m\u001b[0m\u001b[1;33m\u001b[0m\u001b[0m\n\u001b[0;32m      4\u001b[0m \u001b[1;32mfor\u001b[0m \u001b[0mi\u001b[0m \u001b[1;32min\u001b[0m \u001b[0mrange\u001b[0m \u001b[1;33m(\u001b[0m\u001b[0mx\u001b[0m\u001b[1;33m)\u001b[0m\u001b[1;33m:\u001b[0m\u001b[1;33m\u001b[0m\u001b[1;33m\u001b[0m\u001b[0m\n\u001b[1;32m----> 5\u001b[1;33m     \u001b[1;32mif\u001b[0m \u001b[0mstr\u001b[0m\u001b[1;33m(\u001b[0m\u001b[0ma\u001b[0m\u001b[1;33m[\u001b[0m\u001b[0mi\u001b[0m\u001b[1;33m]\u001b[0m\u001b[1;33m)\u001b[0m\u001b[1;33m.\u001b[0m\u001b[0misnumeric\u001b[0m\u001b[1;33m(\u001b[0m\u001b[1;33m)\u001b[0m\u001b[1;33m==\u001b[0m\u001b[1;32mTrue\u001b[0m \u001b[1;33m:\u001b[0m\u001b[1;33m\u001b[0m\u001b[1;33m\u001b[0m\u001b[0m\n\u001b[0m\u001b[0;32m      6\u001b[0m         \u001b[0mprint\u001b[0m \u001b[1;33m(\u001b[0m\u001b[1;34m\"List contain numeric value\"\u001b[0m\u001b[1;33m)\u001b[0m\u001b[1;33m\u001b[0m\u001b[1;33m\u001b[0m\u001b[0m\n",
      "\u001b[1;31mKeyError\u001b[0m: 0"
     ]
    }
   ],
   "source": [
    "# 4. Write a Python program to sum all the numeric items in a dictionary\n",
    "a={'1': 'Student Name', '2': 'Second Name', '3': 'Gender' , '4':32 , '5':16}\n",
    "x=len(a)\n",
    "for i in range (x):\n",
    "    if str(a[i]).isnumeric()==True :\n",
    "        print (\"List contain numeric value\")\n"
   ]
  },
  {
   "cell_type": "code",
   "execution_count": null,
   "metadata": {},
   "outputs": [],
   "source": [
    "# 5. Write a program to identify duplicate values from list\n"
   ]
  },
  {
   "cell_type": "code",
   "execution_count": null,
   "metadata": {},
   "outputs": [],
   "source": [
    "# 6. Write a Python script to check if a given key already exists in a dictionary"
   ]
  }
 ],
 "metadata": {
  "kernelspec": {
   "display_name": "Python 3",
   "language": "python",
   "name": "python3"
  },
  "language_info": {
   "codemirror_mode": {
    "name": "ipython",
    "version": 3
   },
   "file_extension": ".py",
   "mimetype": "text/x-python",
   "name": "python",
   "nbconvert_exporter": "python",
   "pygments_lexer": "ipython3",
   "version": "3.7.4"
  }
 },
 "nbformat": 4,
 "nbformat_minor": 2
}

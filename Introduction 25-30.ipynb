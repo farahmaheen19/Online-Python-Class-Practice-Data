{
 "cells": [
  {
   "cell_type": "markdown",
   "metadata": {},
   "source": [
    "# Dictionaries Creation"
   ]
  },
  {
   "cell_type": "code",
   "execution_count": 13,
   "metadata": {},
   "outputs": [
    {
     "name": "stdout",
     "output_type": "stream",
     "text": [
      "{'first name': 'farah', 'second name': 'samee', 'roll no': 7}\n"
     ]
    }
   ],
   "source": [
    "#syntax Dictionarie_Name = {key:value , 2nd_key:2nd_value}\n",
    "\n",
    "customer = {\n",
    "    \"first name\": \"farah\",\n",
    "    \"second name\": \"samee\",\n",
    "    \"roll no\" : 7\n",
    "        }\n",
    "print (customer)"
   ]
  },
  {
   "cell_type": "markdown",
   "metadata": {},
   "source": [
    "# Printing By Using Loop"
   ]
  },
  {
   "cell_type": "code",
   "execution_count": 14,
   "metadata": {},
   "outputs": [
    {
     "name": "stdout",
     "output_type": "stream",
     "text": [
      "first name\n",
      "second name\n",
      "roll no\n",
      "farah\n",
      "samee\n",
      "7\n"
     ]
    }
   ],
   "source": [
    "#syntax for variable in Dictionarie_Name.Keys()    for using keys of Dictionarie\n",
    "#syntax for variable in Dictionarie_Name.Values()    for using Values of Dictionarie\n",
    "\n",
    "customer = {\n",
    "    \"first name\": \"farah\",\n",
    "    \"second name\": \"samee\",\n",
    "    \"roll no\" : 7\n",
    "        }\n",
    "\n",
    "for a in customer.keys():\n",
    "    print(a)\n",
    "for a in customer.values():\n",
    "    print(a)"
   ]
  },
  {
   "cell_type": "markdown",
   "metadata": {},
   "source": [
    "# Editing any Key's value in Dictionaries"
   ]
  },
  {
   "cell_type": "code",
   "execution_count": 10,
   "metadata": {},
   "outputs": [
    {
     "name": "stdout",
     "output_type": "stream",
     "text": [
      "{'first name': 'namra', 'second name': 'samee', 'roll no': 7}\n"
     ]
    }
   ],
   "source": [
    "customer[\"first name\"] = \"namra\"\n",
    "print (customer)"
   ]
  },
  {
   "cell_type": "markdown",
   "metadata": {},
   "source": [
    "# Adding new value in Dictionaries"
   ]
  },
  {
   "cell_type": "code",
   "execution_count": 11,
   "metadata": {},
   "outputs": [
    {
     "name": "stdout",
     "output_type": "stream",
     "text": [
      "{'first name': 'namra', 'second name': 'samee', 'roll no': 7, 'address': 'faisalabad'}\n"
     ]
    }
   ],
   "source": [
    "customer[\"address\"] = \"faisalabad\"\n",
    "print (customer)"
   ]
  }
 ],
 "metadata": {
  "kernelspec": {
   "display_name": "Python 3",
   "language": "python",
   "name": "python3"
  },
  "language_info": {
   "codemirror_mode": {
    "name": "ipython",
    "version": 3
   },
   "file_extension": ".py",
   "mimetype": "text/x-python",
   "name": "python",
   "nbconvert_exporter": "python",
   "pygments_lexer": "ipython3",
   "version": "3.7.4"
  }
 },
 "nbformat": 4,
 "nbformat_minor": 2
}

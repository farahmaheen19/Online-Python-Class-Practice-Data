{
 "cells": [
  {
   "cell_type": "code",
   "execution_count": 3,
   "metadata": {},
   "outputs": [
    {
     "name": "stdout",
     "output_type": "stream",
     "text": [
      "Enter a number: 3.5\n",
      "3.5 is odd\n"
     ]
    }
   ],
   "source": [
    "\"\"\"2.   Write a program which take input from user and identify that the given number is even or odd? \"\"\"\n",
    "number = float (input (\"Enter a number: \"))\n",
    "if (number%2.0==0):\n",
    "    print (str (number) + \" is even\")\n",
    "else:\n",
    "    print (str (number) + \" is odd\")"
   ]
  },
  {
   "cell_type": "code",
   "execution_count": 44,
   "metadata": {},
   "outputs": [
    {
     "name": "stdout",
     "output_type": "stream",
     "text": [
      "Enter English Marks Out of 100: 75.5\n",
      "Enter Urdu Marks Out of 100: 65.5\n",
      "Enter Maths Marks Out of 100: 90.0\n",
      "Enter Computer Marks Out of 100: 100\n",
      "Enter PS Marks Out of 100: 52.5\n",
      "Congratulations Your Grade is : C+\n"
     ]
    }
   ],
   "source": [
    "\"\"\"1.Write a program which takes 5 inputs from user for different subject’s marks, total it \n",
    "and generate mark sheet using grades ? \"\"\"\n",
    "\n",
    "sub1 = float (input (\"Enter English Marks Out of 100: \"))\n",
    "sub2 = float (input (\"Enter Urdu Marks Out of 100: \"))\n",
    "sub3= float (input (\"Enter Maths Marks Out of 100: \"))\n",
    "sub4 = float (input (\"Enter Computer Marks Out of 100: \"))\n",
    "sub5 = float (input (\"Enter PS Marks Out of 100: \"))\n",
    "\n",
    "Total = float (sub1+sub2+sub3+sub4+sub5)\n",
    "Total =float (Total/5.0)\n",
    "\n",
    "if (Total>=95.0 and Total<=100.0):\n",
    "    print (\"Congratulations Your Grade is : A+\")\n",
    "elif (Total >=90.0 and Total<95.0):\n",
    "    print (\"Congratulations Your Grade is : A\")\n",
    "elif (Total >85.0 and Total<90.0):\n",
    "    print (\"Congratulations Your Grade is : B+\")\n",
    "elif (Total >=80.0 and Total<85.0):\n",
    "    print (\"Congratulations Your Grade is : B\")\n",
    "elif (Total >=75.0 and Total<80.0):\n",
    "    print (\"Congratulations Your Grade is : C+\")\n",
    "elif (Total >=70.0 and Total<75.0):\n",
    "    print (\"Congratulations Your Grade is : C\")\n",
    "elif (Total >=65.0 and Total<70.0):\n",
    "    print (\"Congratulations Your Grade is : D+\")\n",
    "elif (Total >=60.0 and Total<65.0):\n",
    "    print (\"Congratulations Your Grade is : D\")\n",
    "elif (Total >=55.0 and Total<60.0):\n",
    "    print (\"Congratulations Your Grade is : E+\")\n",
    "elif (Total >=50.0 and Total<55.0):\n",
    "    print (\"Congratulations Your Grade is : E\")\n",
    "else :\n",
    "    print (\"Sorry Your are Fail\")\n",
    "    "
   ]
  },
  {
   "cell_type": "code",
   "execution_count": 120,
   "metadata": {},
   "outputs": [
    {
     "name": "stdout",
     "output_type": "stream",
     "text": [
      "5\n"
     ]
    }
   ],
   "source": [
    "\"\"\"3.  Write a program which print the length of the list?\"\"\"\n",
    "\n",
    "the_list=[\"sana\",\"sara\",12.4,34,'saba']\n",
    "print (len(the_list))    #len() will print the length of list"
   ]
  },
  {
   "cell_type": "code",
   "execution_count": 108,
   "metadata": {},
   "outputs": [
    {
     "name": "stdout",
     "output_type": "stream",
     "text": [
      "15\n"
     ]
    }
   ],
   "source": [
    "\"\"\"4.  Write a Python program to sum all the numeric items in a list?\"\"\"\n",
    "\n",
    "number_list=[1,2,3,4,5]\n",
    "\n",
    "def function_sum(number_list):      #function with argument number_list\n",
    "    Sum_of_List = 0\n",
    "    for i in number_list:\n",
    "        Sum_of_List = Sum_of_List + i\n",
    "    return (Sum_of_List)\n",
    "\n",
    "\n",
    "print(function_sum(number_list))"
   ]
  },
  {
   "cell_type": "code",
   "execution_count": 112,
   "metadata": {},
   "outputs": [
    {
     "name": "stdout",
     "output_type": "stream",
     "text": [
      "17\n"
     ]
    }
   ],
   "source": [
    "\"\"\"5.  Write a Python program to get the largest number from a numeric list\"\"\"\n",
    "number_list=[1,17,3,4,5]\n",
    "\n",
    "def function_largest_number(number_list):      #function with argument number_list\n",
    "    number = 0\n",
    "    for i in number_list:\n",
    "        if (i>number):\n",
    "            number =  i\n",
    "    return (number)\n",
    "\n",
    "\n",
    "print(function_largest_number(number_list))"
   ]
  },
  {
   "cell_type": "code",
   "execution_count": 119,
   "metadata": {},
   "outputs": [
    {
     "name": "stdout",
     "output_type": "stream",
     "text": [
      "1\n",
      "1\n",
      "2\n",
      "3\n",
      "3\n"
     ]
    }
   ],
   "source": [
    "\"\"\"6.  Take a list, say for example this one:\n",
    "a = [1, 1, 2, 3, 5, 8, 13, 21, 34, 55, 89]\n",
    "and write a program that prints out all the elements of the list that are \n",
    "less than 5. \"\"\"\n",
    "\n",
    "number_list=[1, 1, 2, 3, 5, 8, 13, 21, 34, 55, 89]\n",
    "\n",
    "def function_smallest_number(number_list):      #function with argument number_list\n",
    "    number = 0\n",
    "    for i in number_list:\n",
    "        if (i<5):\n",
    "            numberr =  i\n",
    "            print (numberr)\n",
    "    return (numberr)\n",
    "\n",
    "\n",
    "print(function_smallest_number(number_list))"
   ]
  }
 ],
 "metadata": {
  "kernelspec": {
   "display_name": "Python 3",
   "language": "python",
   "name": "python3"
  },
  "language_info": {
   "codemirror_mode": {
    "name": "ipython",
    "version": 3
   },
   "file_extension": ".py",
   "mimetype": "text/x-python",
   "name": "python",
   "nbconvert_exporter": "python",
   "pygments_lexer": "ipython3",
   "version": "3.7.4"
  }
 },
 "nbformat": 4,
 "nbformat_minor": 2
}

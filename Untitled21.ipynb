{
 "cells": [
  {
   "cell_type": "code",
   "execution_count": 1,
   "metadata": {},
   "outputs": [
    {
     "name": "stdout",
     "output_type": "stream",
     "text": [
      "22\n",
      "guess the  number22\n",
      "You choose correct number\n"
     ]
    }
   ],
   "source": [
    "\"\"\"Question5:\n",
    "Guess the number game\n",
    "Write a program which randomly generate a number between 1 to 30 and ask \n",
    "the user in input field to guess the correct number. Give three chances to user guess the \n",
    "number and also give hint to user if hidden number is greater or smaller than the number he given to input field.\n",
    "\"\"\"\n",
    " \n",
    "from random import randint\n",
    "number = randint (1,30)\n",
    "print (number)\n",
    "\n",
    "\n",
    "    \n",
    "\n",
    "for i in range(3):\n",
    "    guess = int(input(\"guess the  number\"))\n",
    "    if guess<number:\n",
    "        print(\"number is greater\")\n",
    "    elif guess>number:\n",
    "        print(\"number is smaller\")\n",
    "    else  :\n",
    "        print(\"You choose correct number\")\n",
    "        break;\n",
    "\n",
    "\n"
   ]
  },
  {
   "cell_type": "code",
   "execution_count": null,
   "metadata": {},
   "outputs": [],
   "source": []
  }
 ],
 "metadata": {
  "kernelspec": {
   "display_name": "Python 3",
   "language": "python",
   "name": "python3"
  },
  "language_info": {
   "codemirror_mode": {
    "name": "ipython",
    "version": 3
   },
   "file_extension": ".py",
   "mimetype": "text/x-python",
   "name": "python",
   "nbconvert_exporter": "python",
   "pygments_lexer": "ipython3",
   "version": "3.7.4"
  }
 },
 "nbformat": 4,
 "nbformat_minor": 2
}

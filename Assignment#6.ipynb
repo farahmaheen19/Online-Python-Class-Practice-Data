{
 "cells": [
  {
   "cell_type": "code",
   "execution_count": null,
   "metadata": {},
   "outputs": [],
   "source": [
    "Q1:Define Object Oriented Programming Language?\n",
    "Ans Object-oriented programming (OOP) is a software programming model constructed around objects. \n",
    "This model compartmentalizes data into objects (data fields) and describes object contents and behavior through \n",
    "the declaration of classes (methods).\n",
    "\n",
    "\n",
    "\n",
    "Q2:List down the Benefits of OOP?\n",
    "Ans:\n",
    "•\tIt provides a clear modular structure for programs which makes it good for defining abstract datatypes in \n",
    "which implementation details are hidden\n",
    "•\tObjects can also be reused within an across applications. The reuse of software also lowers the cost of development. \n",
    "More effort is put into the object-oriented analysis and design, which lowers the overall cost of development.\n",
    "•\tIt makes software easier to maintain. Since the design is modular, part of the system can be updated in case of \n",
    "issues without a need to make large-scale changes\n",
    "•\tReuse also enables faster development. Object-oriented programming languages come with rich libraries of \n",
    "objects, and code developed during projects is also reusable in future projects.\n",
    "•\tIt provides a good framework for code libraries where the supplied software components can be easily \n",
    "adapted and modified by the programmer. This is particularly useful for developing graphical user interfaces.\n",
    "•\tBetter Productivity as OOP techniques enforce rules on a programmer that, in the long run, help her \n",
    "get more work done; finished programs work better, have more features and are easier to read and maintain. \n",
    "OOP programmers take new and existing software objects and \"stitch\" them together to make new programs. \n",
    "Because object libraries contain many useful functions, software developers don't have to reinvent the \n",
    "wheel as often; more of their time goes into making the new program.\n",
    "\n",
    "\n",
    "Q3: Differentiate between function and method?\n",
    "Ans: A function is a piece of code that is called by name. It can be passed data to operate on (i.e. the parameters) and can optionally return data (the return value). All data that is passed to a function is explicitly passed.\n",
    "A method is a piece of code that is called by a name that is associated with an object. In most respects it is identical to a function except for two key differences:\n",
    "1.\tA method is implicitly passed the object on which it was called.\n",
    "2.\tA method is able to operate on data that is contained within the class (remembering that an object is an instance of a class - the class is the definition, the object is an instance of that data).\n",
    "\n",
    "\n",
    "\n",
    "\n",
    "Question 4:Define the following terms:\n",
    "1.\tClass\n",
    "Classes (OOP) In object-oriented programming, a class is a blueprint for creating objects (a particular data structure), providing initial values for state (member variables or attributes), and implementations of behavior (member functions or methods). The user-defined objects are created using the class keyword.\n",
    "2.\tObject\n",
    "In object-oriented programming (OOP), objects are the units of code that are eventually derived from the process. In between, each object is made into a generic class of object and even more generic classes are defined so that objects can share models and reuse the class definitions in their code. Each object is an instance of a particular class or subclass with the class's own methods or procedures and data variables. An object is what actually runs in the computer.\n",
    "3.\tAttribute\n",
    "In computing, an attribute is a specification that defines a property of an object, element, or file. It may also refer to or set the specific value for a given instance of such. For clarity, attributes should more correctly be considered metadata\n",
    "4.\tBehavior\n",
    "The behavior of an object is defined by its methods, which are the functions and subroutines defined within the object class. Without class methods, a class would simply be a structure. Methods determine what type of functionality a class has, how it modifies its data, and its overall behavior.\n"
   ]
  },
  {
   "cell_type": "code",
   "execution_count": 16,
   "metadata": {},
   "outputs": [
    {
     "name": "stdout",
     "output_type": "stream",
     "text": [
      "2015\n",
      "Mehran\n",
      "Suzaki\n",
      "white\n",
      "4\n",
      "luxury\n",
      "non-luxury\n"
     ]
    }
   ],
   "source": [
    "# Q5: Write a code in python in which create a class named it Car which have 5 attributes such like (model, color and name etc.) and 3 methods. And create 5 object instance from that class.\n",
    "\n",
    "class car ():\n",
    "    def __init__(self,model,car,name,colour,seats):\n",
    "        self.model=model\n",
    "        self.car=car\n",
    "        self.name=name\n",
    "        self.colour=colour\n",
    "        self.seats=seats\n",
    "        self.type=\"luxury\"\n",
    "\n",
    "#method  \n",
    "    def updateCarType (self,cartype):\n",
    "        self.type=cartype\n",
    "        \n",
    "     \n",
    "        \n",
    "       \n",
    "            \n",
    "#instance           \n",
    "car1 = car(\"2015\",\"Mehran\",\"Suzaki\",\"white\",\"4\")\n",
    "#print\n",
    "print(car1.model)\n",
    "print(car1.car)\n",
    "print(car1.name)\n",
    "print(car1.colour)\n",
    "print(car1.seats)\n",
    "print(car1.type)\n",
    "car1.updateCarType(\"non-luxury\")\n",
    "print(car1.type)\n",
    "\n"
   ]
  }
 ],
 "metadata": {
  "kernelspec": {
   "display_name": "Python 3",
   "language": "python",
   "name": "python3"
  },
  "language_info": {
   "codemirror_mode": {
    "name": "ipython",
    "version": 3
   },
   "file_extension": ".py",
   "mimetype": "text/x-python",
   "name": "python",
   "nbconvert_exporter": "python",
   "pygments_lexer": "ipython3",
   "version": "3.7.4"
  }
 },
 "nbformat": 4,
 "nbformat_minor": 2
}

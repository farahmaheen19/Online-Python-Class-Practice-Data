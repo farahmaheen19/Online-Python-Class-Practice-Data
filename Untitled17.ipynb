{
 "cells": [
  {
   "cell_type": "markdown",
   "metadata": {},
   "source": [
    "# Chapter # 1 to 8\n",
    "use of print\n",
    "use of \\n\n",
    "use of variables\n",
    "use of mathematic operators\n",
    "use of concatenation of string to string\n",
    "use of concatenation of int to int\n",
    "use of concatenation of string to int\n"
   ]
  },
  {
   "cell_type": "code",
   "execution_count": null,
   "metadata": {},
   "outputs": [],
   "source": [
    "# use of print\n",
    "print (\"Hello \\nWorld\") #\\n is user for next line\n",
    "a=1\n",
    "a      # printing  without print"
   ]
  },
  {
   "cell_type": "code",
   "execution_count": 23,
   "metadata": {},
   "outputs": [
    {
     "name": "stdout",
     "output_type": "stream",
     "text": [
      "farah maheen\n",
      "20\n",
      "50\n"
     ]
    }
   ],
   "source": [
    "#Use of veriables\n",
    "first_name = \"farah\"\n",
    "last_name = 'maheen'  # can use \"\" or '' for sting data no issue \n",
    "print(first_name + \" \" +last_name)\n",
    "a=20\n",
    "print(a)\n",
    "b=30\n",
    "c=a+b\n",
    "print(c)"
   ]
  },
  {
   "cell_type": "code",
   "execution_count": 11,
   "metadata": {},
   "outputs": [
    {
     "name": "stdout",
     "output_type": "stream",
     "text": [
      "77\n",
      "farahfarah\n",
      "7farah\n"
     ]
    }
   ],
   "source": [
    "#multiplication and addition of string variable \n",
    "a=\"7\"\n",
    "b=\"farah\"\n",
    "print(a*2)\n",
    "print(b*2)\n",
    "print(a+b)"
   ]
  },
  {
   "cell_type": "code",
   "execution_count": 19,
   "metadata": {},
   "outputs": [
    {
     "name": "stdout",
     "output_type": "stream",
     "text": [
      "13\n",
      "7\n",
      "3.3333333333333335\n",
      "1\n"
     ]
    },
    {
     "data": {
      "text/plain": [
       "27"
      ]
     },
     "execution_count": 19,
     "metadata": {},
     "output_type": "execute_result"
    }
   ],
   "source": [
    "#mathematics with variables\n",
    "a = 10\n",
    "b = 3\n",
    "c = a + b #addation\n",
    "d = a - b #subtraction\n",
    "e = a / b #division\n",
    "f = a % b #remaninder\n",
    "g = b ** b\n",
    "print (c)\n",
    "print (d)\n",
    "print (e)\n",
    "print (f)\n",
    "g\n"
   ]
  },
  {
   "cell_type": "code",
   "execution_count": 17,
   "metadata": {},
   "outputs": [
    {
     "name": "stdout",
     "output_type": "stream",
     "text": [
      "6\n",
      "4\n",
      "8\n",
      "2\n"
     ]
    }
   ],
   "source": [
    "#complicated mathematics with variables\n",
    "b=4\n",
    "b +=2\n",
    "print ( b )\n",
    "b -=2\n",
    "print ( b )\n",
    "b *=2\n",
    "print ( b )\n",
    "c = (1 + 2) * 3 / 4    # \"/ \" will not eliminate decimal part\n",
    "print (c)\n",
    "c = (1 + 2) * 3 // 4    # \" // \"will eliminate decimal part\n",
    "print (c)"
   ]
  },
  {
   "cell_type": "code",
   "execution_count": 28,
   "metadata": {},
   "outputs": [
    {
     "name": "stdout",
     "output_type": "stream",
     "text": [
      "Enter your namefarah\n",
      "farah5\n",
      "Enter your age26\n",
      "31\n"
     ]
    }
   ],
   "source": [
    "#use of input statement\n",
    "#input always take staring\n",
    "#always use int() to convert string to integer\n",
    "\n",
    "a = input (\"Enter your name\")\n",
    "b = \"5\"\n",
    "c = a+b\n",
    "print (c)\n",
    "a = int (input (\"Enter your age\")) #converting string to integer\n",
    "b = int(\"5\") #converting string to integer\n",
    "c = a+b\n",
    "print (c)"
   ]
  }
 ],
 "metadata": {
  "kernelspec": {
   "display_name": "Python 3",
   "language": "python",
   "name": "python3"
  },
  "language_info": {
   "codemirror_mode": {
    "name": "ipython",
    "version": 3
   },
   "file_extension": ".py",
   "mimetype": "text/x-python",
   "name": "python",
   "nbconvert_exporter": "python",
   "pygments_lexer": "ipython3",
   "version": "3.7.4"
  }
 },
 "nbformat": 4,
 "nbformat_minor": 2
}

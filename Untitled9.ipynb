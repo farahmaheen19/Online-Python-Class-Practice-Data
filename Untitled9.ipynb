{
 "cells": [
  {
   "cell_type": "code",
   "execution_count": 4,
   "metadata": {},
   "outputs": [
    {
     "name": "stdout",
     "output_type": "stream",
     "text": [
      "Enter your marks66\n",
      "Enter your marks76\n",
      "Enter your marks87\n",
      "Enter your marks98\n",
      "Enter your marks76\n",
      "B+\n"
     ]
    }
   ],
   "source": [
    "marks=[]\n",
    "total=0\n",
    "for i in range (5):\n",
    "    x=int(input(\"Enter your marks\"))\n",
    "    marks.append(x)\n",
    "    total+=x\n",
    "percentage=(total/500)*100\n",
    "if (percentage>=90):\n",
    "    print(\"A+\")\n",
    "elif (percentage>=80):\n",
    "    print(\"B+\")\n",
    "elif (percentage>=70):\n",
    "    print(\"C+\")\n",
    "elif (percentage>=60):\n",
    "    print(\"D+\")\n",
    "else:\n",
    "    print(\"fail\")"
   ]
  },
  {
   "cell_type": "code",
   "execution_count": 10,
   "metadata": {},
   "outputs": [
    {
     "name": "stdout",
     "output_type": "stream",
     "text": [
      "Enter Your marks in sunject1: 56\n",
      "Enter Your marks in sunject2: 78\n",
      "Enter Your marks in sunject3: 89\n",
      "Enter Your marks in sunject4: 90\n",
      "Enter Your marks in sunject5: 67\n",
      "Congratulations Your Grade is : C+\n"
     ]
    }
   ],
   "source": [
    "\"\"\"1.Write a program which takes 5 inputs from user for different subject’s marks, total it \n",
    "and generate mark sheet using grades ? \"\"\"\n",
    "\n",
    "sub = []\n",
    "Total=0\n",
    "for i in range (5):\n",
    "    x=float(input(\"Enter Your marks in sunject\" + str(i+1) +\": \"))\n",
    "    sub.append(x)\n",
    "    Total+=x\n",
    "Total =float (Total/5.0)\n",
    "\n",
    "if (Total>=95.0 and Total<=100.0):\n",
    "    print (\"Congratulations Your Grade is : A+\")\n",
    "elif (Total >=90.0 and Total<95.0):\n",
    "    print (\"Congratulations Your Grade is : A\")\n",
    "elif (Total >85.0 and Total<90.0):\n",
    "    print (\"Congratulations Your Grade is : B+\")\n",
    "elif (Total >=80.0 and Total<85.0):\n",
    "    print (\"Congratulations Your Grade is : B\")\n",
    "elif (Total >=75.0 and Total<80.0):\n",
    "    print (\"Congratulations Your Grade is : C+\")\n",
    "elif (Total >=70.0 and Total<75.0):\n",
    "    print (\"Congratulations Your Grade is : C\")\n",
    "elif (Total >=65.0 and Total<70.0):\n",
    "    print (\"Congratulations Your Grade is : D+\")\n",
    "elif (Total >=60.0 and Total<65.0):\n",
    "    print (\"Congratulations Your Grade is : D\")\n",
    "elif (Total >=55.0 and Total<60.0):\n",
    "    print (\"Congratulations Your Grade is : E+\")\n",
    "elif (Total >=50.0 and Total<55.0):\n",
    "    print (\"Congratulations Your Grade is : E\")\n",
    "else :\n",
    "    print (\"Sorry Your are Fail\")"
   ]
  },
  {
   "cell_type": "code",
   "execution_count": null,
   "metadata": {},
   "outputs": [],
   "source": [
    "\"\"\"2.   Write a program which take input from user and identify that the given number is even or odd? \"\"\"\n",
    "number = float (input (\"Enter a number: \"))\n",
    "if (number%2.0==0):\n",
    "    print (str (number) + \" is even\")\n",
    "else:\n",
    "    print (str (number) + \" is odd\")"
   ]
  },
  {
   "cell_type": "code",
   "execution_count": 11,
   "metadata": {},
   "outputs": [
    {
     "name": "stdout",
     "output_type": "stream",
     "text": [
      "5\n"
     ]
    }
   ],
   "source": [
    "\"\"\"3.  Write a program which print the length of the list?\"\"\"\n",
    "\n",
    "the_list=[\"sana\",\"sara\",12.4,34,'saba']\n",
    "print (len(the_list))    #len() will print the length of list"
   ]
  },
  {
   "cell_type": "code",
   "execution_count": 12,
   "metadata": {},
   "outputs": [
    {
     "name": "stdout",
     "output_type": "stream",
     "text": [
      "15\n"
     ]
    }
   ],
   "source": [
    "\"\"\"4.  Write a Python program to sum all the numeric items in a list?\"\"\"\n",
    "\n",
    "number_list=[1,2,3,4,5]\n",
    "\n",
    "def function_sum(number_list):      #function with argument number_list\n",
    "    Sum_of_List = 0\n",
    "    for i in number_list:\n",
    "        Sum_of_List = Sum_of_List + i\n",
    "    return (Sum_of_List)\n",
    "\n",
    "\n",
    "print(function_sum(number_list))"
   ]
  },
  {
   "cell_type": "code",
   "execution_count": 16,
   "metadata": {},
   "outputs": [
    {
     "name": "stdout",
     "output_type": "stream",
     "text": [
      "15\n"
     ]
    }
   ],
   "source": [
    "\"\"\"4.  Write a Python program to sum all the numeric items in a list?\"\"\"\n",
    "\n",
    "number_list=[1,2,3,4,5]\n",
    "sum=0\n",
    "x=(len(number_list))\n",
    "for i in range (x):\n",
    "    sum=sum+number_list[i]\n",
    "print (sum)"
   ]
  },
  {
   "cell_type": "code",
   "execution_count": 28,
   "metadata": {},
   "outputs": [
    {
     "name": "stdout",
     "output_type": "stream",
     "text": [
      "17\n"
     ]
    }
   ],
   "source": [
    "\"\"\"5.  Write a Python program to get the largest number from a numeric list\"\"\"\n",
    "number_list=[1,17,3,4,5]\n",
    "\n",
    "x=len(number_list)\n",
    "number = 0\n",
    "for i in range (x):\n",
    "    if ((number_list[i])>number):\n",
    "        number =  number_list[i]\n",
    "\n",
    "print (number)\n",
    "\n",
    "\n"
   ]
  },
  {
   "cell_type": "code",
   "execution_count": null,
   "metadata": {},
   "outputs": [],
   "source": []
  }
 ],
 "metadata": {
  "kernelspec": {
   "display_name": "Python 3",
   "language": "python",
   "name": "python3"
  },
  "language_info": {
   "codemirror_mode": {
    "name": "ipython",
    "version": 3
   },
   "file_extension": ".py",
   "mimetype": "text/x-python",
   "name": "python",
   "nbconvert_exporter": "python",
   "pygments_lexer": "ipython3",
   "version": "3.7.4"
  }
 },
 "nbformat": 4,
 "nbformat_minor": 2
}

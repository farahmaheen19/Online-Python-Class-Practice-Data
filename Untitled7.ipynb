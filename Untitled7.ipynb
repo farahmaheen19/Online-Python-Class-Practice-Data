{
 "cells": [
  {
   "cell_type": "code",
   "execution_count": 3,
   "metadata": {},
   "outputs": [
    {
     "name": "stdout",
     "output_type": "stream",
     "text": [
      "Enter a number: 3.5\n",
      "3.5 is odd\n"
     ]
    }
   ],
   "source": [
    "\"\"\"Write a program which take input from user and identify that the given number is even or odd? \"\"\"\n",
    "number = float (input (\"Enter a number: \"))\n",
    "if (number%2.0==0):\n",
    "    print (str (number) + \" is even\")\n",
    "else:\n",
    "    print (str (number) + \" is odd\")"
   ]
  },
  {
   "cell_type": "code",
   "execution_count": null,
   "metadata": {},
   "outputs": [],
   "source": [
    "Write a program which takes 5 inputs from user for different subject’s \n",
    "marks, total it and generate mark sheet using grades ?"
   ]
  }
 ],
 "metadata": {
  "kernelspec": {
   "display_name": "Python 3",
   "language": "python",
   "name": "python3"
  }
 },
 "nbformat": 4,
 "nbformat_minor": 2
}

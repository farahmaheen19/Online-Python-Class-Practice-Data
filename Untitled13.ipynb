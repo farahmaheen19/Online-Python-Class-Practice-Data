{
 "cells": [
  {
   "cell_type": "code",
   "execution_count": 29,
   "metadata": {},
   "outputs": [
    {
     "name": "stdout",
     "output_type": "stream",
     "text": [
      "2\n",
      "Guess the value:2\n",
      "You guess true number\n"
     ]
    }
   ],
   "source": [
    "\"\"\"Question5:\n",
    "Guess the number game\n",
    "Write a program which randomly generate a number between 1 to 30 and ask the user in input field to guess the correct number. Give three chances to user guess the number and also give hint to user if hidden number is greater or smaller than the number he given to input field.\n",
    "\"\"\"\n",
    "from random import randint\n",
    "for a in range(1):\n",
    "\tvalue = randint(1, 30)\n",
    "\tprint(value)\n",
    "a=1\n",
    "              \n",
    "for a in range (3):\n",
    "    user_input=int(input(\"Guess the value:\"))\n",
    "    if user_input == value:\n",
    "        print (\"You guess true number\")\n",
    "        break\n",
    "    elif user_input>value:\n",
    "            print (\"Hidden number is smaller\")\n",
    "    elif user_input<value:\n",
    "            print (\"Hidden number is greater\")"
   ]
  },
  {
   "cell_type": "code",
   "execution_count": null,
   "metadata": {},
   "outputs": [],
   "source": []
  }
 ],
 "metadata": {
  "kernelspec": {
   "display_name": "Python 3",
   "language": "python",
   "name": "python3"
  },
  "language_info": {
   "codemirror_mode": {
    "name": "ipython",
    "version": 3
   },
   "file_extension": ".py",
   "mimetype": "text/x-python",
   "name": "python",
   "nbconvert_exporter": "python",
   "pygments_lexer": "ipython3",
   "version": "3.7.4"
  }
 },
 "nbformat": 4,
 "nbformat_minor": 2
}

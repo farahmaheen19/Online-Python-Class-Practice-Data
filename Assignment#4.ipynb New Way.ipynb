{
 "cells": [
  {
   "cell_type": "code",
   "execution_count": 8,
   "metadata": {},
   "outputs": [
    {
     "name": "stdout",
     "output_type": "stream",
     "text": [
      "{'first_name': 'farah', 'last_name': 'samee', 'age': 26, 'city': 'faisalabad'}\n",
      "{'first_name': 'farah', 'last_name': 'samee', 'age': 26, 'city': 'faisalabad', 'qualification': 'SSC'}\n",
      "{'first_name': 'farah', 'last_name': 'samee', 'age': 26, 'city': 'faisalabad', 'qualification': 'HSSC'}\n",
      "{'first_name': 'farah', 'last_name': 'samee', 'age': 26, 'city': 'faisalabad'}\n"
     ]
    }
   ],
   "source": [
    "person = {\n",
    "    \"first_name\" : \"farah\" ,\n",
    "    \"last_name\" : \"samee\" ,\n",
    "    \"age\" : 26 ,\n",
    "    \"city\" : \"faisalabad\"\n",
    "}\n",
    "\n",
    "print (person)\n",
    "\n",
    "person[\"qualification\"] = \"SSC\"\n",
    "print (person)\n",
    "person[\"qualification\"] = \"HSSC\"\n",
    "print (person)\n",
    "del person[\"qualification\"]\n",
    "\n",
    "print (person)"
   ]
  },
  {
   "cell_type": "code",
   "execution_count": 9,
   "metadata": {},
   "outputs": [
    {
     "name": "stdout",
     "output_type": "stream",
     "text": [
      "{'karachi': {'country': 'Pakistan', 'Population': '1,00000', 'fact': 'city of fashion'}, 'lahore': {'country': 'Pakistan', 'Population': '5,0000', 'fact': 'city of food'}, 'faisalabad': {'country': 'Pakistan', 'Population': '1,000', 'fact': 'city of textile'}}\n"
     ]
    }
   ],
   "source": [
    "\n",
    "\"\"\"Question2:\n",
    "Make a dictionary called cities. Use the names of three cities as keys in your dictionary. \n",
    "Create a dictionary of information about each city and include the country that the city is in, \n",
    "its approximate population, and one fact about that city. The keys for each city’s dictionary \n",
    "should be something like country, population, and fact. Print the name of each city and all of \n",
    "the information you have stored about it.\n",
    "\"\"\"\n",
    "cities = {\n",
    "    \"karachi\" : {\"country\" : \"Pakistan\", \"Population\" : \"1,00000\" , \"fact\" : \"city of fashion\"},\n",
    "    \"lahore\" : {\"country\" : \"Pakistan\", \"Population\" : \"5,0000\" , \"fact\" : \"city of food\"},\n",
    "    \"faisalabad\" : {\"country\" : \"Pakistan\", \"Population\" : \"1,000\" , \"fact\" : \"city of textile\"},\n",
    "    \n",
    "}\n",
    "\n",
    "print (cities)\n",
    "\n"
   ]
  },
  {
   "cell_type": "code",
   "execution_count": 34,
   "metadata": {},
   "outputs": [
    {
     "name": "stdout",
     "output_type": "stream",
     "text": [
      "enter the age1\n",
      "the ticket is free\n"
     ]
    }
   ],
   "source": [
    "\n",
    "\"\"\"Question3:\n",
    "A movie theater charges different ticket prices depending on a person’s age. \n",
    "If a person is under the age of 3, the ticket is free; if they are between 3 and 12, \n",
    "the ticket is $10; and if they are over age 12, the ticket is $15. Write a loop in which \n",
    "you ask users their age, and then tell them the cost of their movie ticket.\n",
    "\"\"\"\n",
    "\n",
    "\n",
    "ticket_prices = {\n",
    "    \"0\" : {\"msg\" : \"the ticket is free\"},\n",
    "    \"1\" : {\"msg\" : \"the ticket is $10\"},\n",
    "    \"2\" : {\"msg\" : \"the ticket is $15\"}\n",
    "}\n",
    "\n",
    "\n",
    "data = input(\"enter the age\")\n",
    "age = int(data)\n",
    "\n",
    "\n",
    "if age < 3 :\n",
    "    print (ticket_prices[\"0\"][\"msg\"])\n",
    "elif age>3 and age<12 :\n",
    "    print (ticket_prices[\"1\"][\"msg\"])\n",
    "else:\n",
    "    print (ticket_prices[\"2\"][\"msg\"])\n"
   ]
  },
  {
   "cell_type": "code",
   "execution_count": 39,
   "metadata": {},
   "outputs": [
    {
     "name": "stdout",
     "output_type": "stream",
     "text": [
      "enter the age1\n",
      "the ticket is free\n",
      "enter the age13\n",
      "the ticket is $10\n",
      "enter the age15\n",
      "the ticket is $15\n"
     ]
    }
   ],
   "source": [
    "\"\"\"Question3:\n",
    "A movie theater charges different ticket prices depending on a person’s age. \n",
    "If a person is under the age of 3, the ticket is free; if they are between 3 and 12, \n",
    "the ticket is $10; and if they are over age 12, the ticket is $15. Write a loop in which \n",
    "you ask users their age, and then tell them the cost of their movie ticket.\n",
    "\"\"\"\n",
    "\n",
    "\n",
    "ticket_prices = {\n",
    "    3 : {\"msg\" : \"the ticket is free\"},\n",
    "    11 : {\"msg\" : \"the ticket is $10\"},\n",
    "    12 : {\"msg\" : \"the ticket is $15\"}\n",
    "}\n",
    "\n",
    "\n",
    "\n",
    "\n",
    "for key,value in ticket_prices.items():\n",
    "    data = input(\"enter the age\")\n",
    "    age = int(data)\n",
    "    if age < key :\n",
    "        print (ticket_prices[key][\"msg\"])\n",
    "    elif age<=11:\n",
    "        print (ticket_prices[key][\"msg\"])\n",
    "    else:\n",
    "        print (ticket_prices[key][\"msg\"])\n"
   ]
  },
  {
   "cell_type": "code",
   "execution_count": 42,
   "metadata": {},
   "outputs": [
    {
     "name": "stdout",
     "output_type": "stream",
     "text": [
      "Enter your fav bookcomputer\n",
      "One of my favorite books is computer in Wonderland\n"
     ]
    }
   ],
   "source": [
    "\"\"\"Question4:\n",
    "Write a function called favorite_book() that accepts one parameter, title. \n",
    "The function should print a message, such as One of my favorite books is Alice in Wonderland. Call the function,\n",
    "making sure to include a book title as an argument in the function call.\"\"\"\n",
    "\n",
    "def favorite_book(title):\n",
    "    print (\"One of my favorite books is \" + title + \" in Wonderland\")\n",
    "\n",
    "book = input(\"Enter your fav book\")\n",
    "favorite_book(book)\n",
    "    \n",
    "\n",
    "\n"
   ]
  },
  {
   "cell_type": "code",
   "execution_count": 1,
   "metadata": {},
   "outputs": [
    {
     "name": "stdout",
     "output_type": "stream",
     "text": [
      "2\n",
      "guess the  number2\n",
      "You choose correct number\n"
     ]
    }
   ],
   "source": [
    "\"\"\"Question5:\n",
    "Guess the number game\n",
    "Write a program which randomly generate a number between 1 to 30 and ask \n",
    "the user in input field to guess the correct number. Give three chances to user guess the \n",
    "number and also give hint to user if hidden number is greater or smaller than the number he given to input field.\n",
    "\"\"\"\n",
    "from random import randint\n",
    "number = randint (1,30)\n",
    "print (number)\n",
    "\n",
    "\n",
    "\n",
    "for i in range(3):\n",
    "    guess = int(input(\"guess the  number\"))\n",
    "    if guess<number:\n",
    "        print(\"number is greater\")\n",
    "    elif guess>number:\n",
    "        print(\"number is smaller\")\n",
    "    else:\n",
    "        print(\"You choose correct number\")\n",
    "        break;"
   ]
  },
  {
   "cell_type": "code",
   "execution_count": null,
   "metadata": {},
   "outputs": [],
   "source": []
  }
 ],
 "metadata": {
  "kernelspec": {
   "display_name": "Python 3",
   "language": "python",
   "name": "python3"
  },
  "language_info": {
   "codemirror_mode": {
    "name": "ipython",
    "version": 3
   },
   "file_extension": ".py",
   "mimetype": "text/x-python",
   "name": "python",
   "nbconvert_exporter": "python",
   "pygments_lexer": "ipython3",
   "version": "3.7.4"
  }
 },
 "nbformat": 4,
 "nbformat_minor": 2
}

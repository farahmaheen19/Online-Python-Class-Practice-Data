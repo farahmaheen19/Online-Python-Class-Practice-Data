{
 "cells": [
  {
   "cell_type": "markdown",
   "metadata": {},
   "source": [
    "# Use of lists append,inser, del, remove , pop"
   ]
  },
  {
   "cell_type": "code",
   "execution_count": 37,
   "metadata": {},
   "outputs": [
    {
     "name": "stdout",
     "output_type": "stream",
     "text": [
      "['farah', 'hira', 'sanya', 'maham', 26, 32.3, 28, 28.0]\n"
     ]
    }
   ],
   "source": [
    "#making and printing list\n",
    "#syntax list_name = [values]\n",
    "\n",
    "arr = [\"farah\" , \"hira\" , \"sanya\" ,'maham' , 26, 32.3 ,28 , 28.0 ]\n",
    "print (arr)\n",
    "       "
   ]
  },
  {
   "cell_type": "code",
   "execution_count": 38,
   "metadata": {},
   "outputs": [
    {
     "name": "stdout",
     "output_type": "stream",
     "text": [
      "sanya\n"
     ]
    }
   ],
   "source": [
    "#printing specific element of list\n",
    "#syntax print(list_name[index])\n",
    "\n",
    "arr = [\"farah\" , \"hira\" , \"sanya\" ,'maham' , 26, 32.3 ,28 , 28.0 ]\n",
    "print (arr[2])"
   ]
  },
  {
   "cell_type": "code",
   "execution_count": 39,
   "metadata": {},
   "outputs": [
    {
     "name": "stdout",
     "output_type": "stream",
     "text": [
      "['farah', 'hira', 'sanya', 'maham', 26, 32.3, 28, 'sadia', 28.0]\n"
     ]
    }
   ],
   "source": [
    "#insert is use to add only 1 element at a time at any place by using index number\n",
    "#synatx list_name.insert(index,value)\n",
    "\n",
    "arr.insert(7,\"sadia\")\n",
    "print (arr)\n"
   ]
  },
  {
   "cell_type": "code",
   "execution_count": 40,
   "metadata": {},
   "outputs": [
    {
     "name": "stdout",
     "output_type": "stream",
     "text": [
      "['farah', 'hira', 'sanya', 'maham', 26, 32.3, 28, 'sadia', 28.0, 'sadia']\n",
      "['farah', 'hira', 'sanya', 'maham', 26, 32.3, 28, 'sadia', 28.0, 'sadia', 'zubair', 'ahsan']\n"
     ]
    }
   ],
   "source": [
    "#append is use to add only 1 element at a time\n",
    "#synatx list_name.append(value)\n",
    "\n",
    "arr.append(\"sadia\")\n",
    "print (arr)\n",
    "arr = arr + [\"zubair\" , \"ahsan\"]\n",
    "print (arr)"
   ]
  },
  {
   "cell_type": "code",
   "execution_count": 41,
   "metadata": {},
   "outputs": [
    {
     "name": "stdout",
     "output_type": "stream",
     "text": [
      "['farah', 'hira', 'sanya', 'maham', 26, 32.3, 28, 'sadia', 28.0, 'sadia', 'zubair', 'ahsan']\n",
      "['farah', 'hira', 'sanya', 'maham', 26, 32.3, 28, 'sadia', 28.0, 'sadia', 'zubair', 'ahsan', 'salman', 'noroz']\n"
     ]
    }
   ],
   "source": [
    "#making new list by existing list\n",
    "#synatx  new_list_name = existing_list + [new values]\n",
    "\n",
    "print (arr)\n",
    "new_arr = arr + [\"salman\" , \"noroz\"]\n",
    "print (new_arr)"
   ]
  },
  {
   "cell_type": "code",
   "execution_count": 42,
   "metadata": {},
   "outputs": [
    {
     "name": "stdout",
     "output_type": "stream",
     "text": [
      "arr: ['farah', 'hira', 'sanya', 'maham', 26, 32.3, 28, 'sadia', 28.0, 'sadia', 'zubair', 'ahsan']\n",
      "new1_arr: ['farah', 'hira', 'sanya']\n"
     ]
    }
   ],
   "source": [
    "#slicing of lists\n",
    "#synatx  new_list_name = existing_list[start_range:ending_range]\n",
    "\n",
    "print (\"arr: \"+ str(arr))\n",
    "new1_arr = arr[0:3]\n",
    "print (\"new1_arr: \"+ str(new1_arr))"
   ]
  },
  {
   "cell_type": "code",
   "execution_count": 43,
   "metadata": {},
   "outputs": [
    {
     "name": "stdout",
     "output_type": "stream",
     "text": [
      "['farah', 'hira', 'sanya', 'maham', 26, 32.3, 28, 'sadia', 28.0, 'sadia', 'zubair', 'ahsan']\n",
      "['hira', 'sanya', 'maham', 26, 32.3, 28, 'sadia', 28.0, 'sadia', 'zubair', 'ahsan']\n"
     ]
    }
   ],
   "source": [
    "#deleting arry element\n",
    "#syntax del lsit_name[index]\n",
    "\n",
    "print (arr)\n",
    "del arr[0]\n",
    "print (arr)\n"
   ]
  },
  {
   "cell_type": "code",
   "execution_count": 44,
   "metadata": {},
   "outputs": [
    {
     "name": "stdout",
     "output_type": "stream",
     "text": [
      "['hira', 'sanya', 'maham', 26, 32.3, 28, 'sadia', 28.0, 'sadia', 'zubair', 'ahsan']\n",
      "['hira', 'sanya', 26, 32.3, 28, 'sadia', 28.0, 'sadia', 'zubair', 'ahsan']\n"
     ]
    }
   ],
   "source": [
    "#removing directly arry element by giving value\n",
    "#syntax list_name.remove(\"value\")\n",
    "\n",
    "print (arr)\n",
    "arr.remove(\"maham\")\n",
    "print (arr)"
   ]
  },
  {
   "cell_type": "code",
   "execution_count": 45,
   "metadata": {},
   "outputs": [
    {
     "name": "stdout",
     "output_type": "stream",
     "text": [
      "['hira', 'sanya', 26, 32.3, 28, 'sadia', 28.0, 'sadia', 'zubair', 'ahsan']\n",
      "ahsan\n"
     ]
    }
   ],
   "source": [
    "#poping elements from end of list\n",
    "#syntax list_name.pop()\n",
    "#can be use with or without print command \n",
    "\n",
    "print (arr)\n",
    "print (arr.pop()) "
   ]
  },
  {
   "cell_type": "code",
   "execution_count": 46,
   "metadata": {},
   "outputs": [
    {
     "name": "stdout",
     "output_type": "stream",
     "text": [
      "['farah', 'hira', 'sanya', 'maham', 26, 32.3, 28, 28.0]\n",
      "28.0\n",
      "[28.0]\n"
     ]
    }
   ],
   "source": [
    "#making new list by poping\n",
    "arr = [\"farah\" , \"hira\" , \"sanya\" ,'maham' , 26, 32.3 ,28 , 28.0 ]\n",
    "new_arr3 = []\n",
    "print (arr)\n",
    "new_arr2 = arr.pop()\n",
    "print (new_arr2)\n",
    "new_arr3.append(new_arr2)\n",
    "print (new_arr3)"
   ]
  },
  {
   "cell_type": "code",
   "execution_count": 47,
   "metadata": {},
   "outputs": [
    {
     "name": "stdout",
     "output_type": "stream",
     "text": [
      "['farah', 'hira', 'sanya', 'maham', 26, 32.3, 28]\n",
      "[28]\n"
     ]
    }
   ],
   "source": [
    "#making new list by poping\n",
    "new_arr3 = []\n",
    "print (arr)\n",
    "\n",
    "new_arr3.append(arr.pop())\n",
    "print (new_arr3)"
   ]
  }
 ],
 "metadata": {
  "kernelspec": {
   "display_name": "Python 3",
   "language": "python",
   "name": "python3"
  },
  "language_info": {
   "codemirror_mode": {
    "name": "ipython",
    "version": 3
   },
   "file_extension": ".py",
   "mimetype": "text/x-python",
   "name": "python",
   "nbconvert_exporter": "python",
   "pygments_lexer": "ipython3",
   "version": "3.7.4"
  }
 },
 "nbformat": 4,
 "nbformat_minor": 2
}

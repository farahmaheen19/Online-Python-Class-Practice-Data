{
 "cells": [
  {
   "cell_type": "code",
   "execution_count": 10,
   "metadata": {},
   "outputs": [
    {
     "name": "stdout",
     "output_type": "stream",
     "text": [
      "Enter English Marks Out of 10: 100\n",
      "Enter Urdu Marks Out of 10: 100\n",
      "Enter Maths Marks Out of 10: 100\n",
      "Enter Computer Marks Out of 10: 100\n",
      "Enter PS Marks Out of 10: 100\n",
      "A+\n"
     ]
    }
   ],
   "source": [
    "\"\"\"Write a program which takes 5 inputs from user for different subject’s marks, total it \n",
    "and generate mark sheet using grades ? \"\"\"\n",
    "\n",
    "sub1 = int(input (\"Enter English Marks Out of 10: \"))\n",
    "sub2 = int(input (\"Enter Urdu Marks Out of 10: \"))\n",
    "sub3= int(input (\"Enter Maths Marks Out of 10: \"))\n",
    "sub4 = int(input (\"Enter Computer Marks Out of 10: \"))\n",
    "sub5 = int(input (\"Enter PS Marks Out of 10: \"))\n",
    "\n",
    "Total = (sub1+sub2+sub3+sub4+sub5)\n",
    "avg =(Total/5)\n",
    "if (avg>=90 and avg<=100):\n",
    "    print (\"A+\")\n",
    "else:\n",
    "    print (\"fail\")"
   ]
  },
  {
   "cell_type": "code",
   "execution_count": null,
   "metadata": {},
   "outputs": [],
   "source": []
  },
  {
   "cell_type": "code",
   "execution_count": null,
   "metadata": {},
   "outputs": [],
   "source": []
  }
 ],
 "metadata": {
  "kernelspec": {
   "display_name": "Python 3",
   "language": "python",
   "name": "python3"
  },
  "language_info": {
   "codemirror_mode": {
    "name": "ipython",
    "version": 3
   },
   "file_extension": ".py",
   "mimetype": "text/x-python",
   "name": "python",
   "nbconvert_exporter": "python",
   "pygments_lexer": "ipython3",
   "version": "3.7.4"
  }
 },
 "nbformat": 4,
 "nbformat_minor": 2
}
